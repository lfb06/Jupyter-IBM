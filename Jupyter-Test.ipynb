{
    "cells": [
        {
            "cell_type": "markdown",
            "metadata": {
                "collapsed": true
            },
            "source": "# My Jupyter Notebook on IBM Watson Studio"
        },
        {
            "cell_type": "markdown",
            "metadata": {},
            "source": "**Luis Bernaldo**"
        },
        {
            "cell_type": "markdown",
            "metadata": {},
            "source": "*I am interested in data science because I like to program code, everything related to data handling and IA*"
        },
        {
            "cell_type": "markdown",
            "metadata": {},
            "source": "### This code explains how to sum 1 + 1"
        },
        {
            "cell_type": "code",
            "execution_count": 4,
            "metadata": {},
            "outputs": [
                {
                    "name": "stdout",
                    "output_type": "stream",
                    "text": "2\n"
                }
            ],
            "source": "def my_code():\n    print(1 + 1)\n\nmy_code()"
        },
        {
            "cell_type": "markdown",
            "metadata": {},
            "source": "1. a\n2. b\n3. c\n4. d\n5. e\n\n\nMarkdown | Less | Pretty\n--- | --- | ---\nStill | renders | **nicely**\n1 | 2 | 3\n\n\n<a href=\"url\" target=\"_blank\">www.ibm.com</a>"
        },
        {
            "cell_type": "code",
            "execution_count": null,
            "metadata": {},
            "outputs": [],
            "source": ""
        }
    ],
    "metadata": {
        "kernelspec": {
            "display_name": "Python 3.10",
            "language": "python",
            "name": "python3"
        },
        "language_info": {
            "codemirror_mode": {
                "name": "ipython",
                "version": 3
            },
            "file_extension": ".py",
            "mimetype": "text/x-python",
            "name": "python",
            "nbconvert_exporter": "python",
            "pygments_lexer": "ipython3",
            "version": "3.10.6"
        }
    },
    "nbformat": 4,
    "nbformat_minor": 1
}